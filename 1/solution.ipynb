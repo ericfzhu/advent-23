{
 "cells": [
  {
   "cell_type": "code",
   "execution_count": 10,
   "metadata": {},
   "outputs": [
    {
     "data": {
      "text/plain": [
       "54676"
      ]
     },
     "execution_count": 10,
     "metadata": {},
     "output_type": "execute_result"
    }
   ],
   "source": [
    "import re\n",
    "file_path = 'input.txt'\n",
    "# Read the file and process each line\n",
    "with open(file_path, 'r') as file:\n",
    "    file_lines = file.readlines()\n",
    "import re\n",
    "\n",
    "def replace_numbers(s):\n",
    "    \"\"\"Replace all substrings of numbers with the digit surrounded by the word.\"\"\"\n",
    "    num_words = {\n",
    "        \"zero\": \"0\", \"one\": \"1\", \"two\": \"2\", \"three\": \"3\", \"four\": \"4\",\n",
    "        \"five\": \"5\", \"six\": \"6\", \"seven\": \"7\", \"eight\": \"8\", \"nine\": \"9\"\n",
    "    }\n",
    "    for word, digit in num_words.items():\n",
    "        s = re.sub(f\"{word}\", f\"{word}{digit}{word}\", s)\n",
    "    return s\n",
    "\n",
    "def find_first_last_digit(s):\n",
    "    \"\"\"Find the first and last digit in the string.\"\"\"\n",
    "    digits = re.findall(r'\\d', s)\n",
    "    if digits:\n",
    "        return int(digits[0]), int(digits[-1])\n",
    "    return 0, 0\n",
    "\n",
    "def process_strings(strings):\n",
    "    \"\"\"Process each string and sum up the values.\"\"\"\n",
    "    total_sum = 0\n",
    "    for string in strings:\n",
    "        modified_string = replace_numbers(string)\n",
    "        first_digit, last_digit = find_first_last_digit(modified_string)\n",
    "        total_sum += first_digit * 10 + last_digit\n",
    "    return total_sum\n",
    "\n",
    "# Example strings\n",
    "example_strings = [\n",
    "    \"two1nine\", \"eightwothree\", \"abcone2threexyz\", \n",
    "    \"xtwone3four\", \"4nineeightseven2\", \"zoneight234\", \"7pqrstsixteen\"\n",
    "]\n",
    "\n",
    "# Process and calculate the sum\n",
    "total_sum = process_strings(file_lines)\n",
    "total_sum\n"
   ]
  }
 ],
 "metadata": {
  "kernelspec": {
   "display_name": "Python 3",
   "language": "python",
   "name": "python3"
  },
  "language_info": {
   "codemirror_mode": {
    "name": "ipython",
    "version": 3
   },
   "file_extension": ".py",
   "mimetype": "text/x-python",
   "name": "python",
   "nbconvert_exporter": "python",
   "pygments_lexer": "ipython3",
   "version": "3.9.16"
  }
 },
 "nbformat": 4,
 "nbformat_minor": 2
}
