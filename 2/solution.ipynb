{
 "cells": [
  {
   "cell_type": "code",
   "execution_count": 3,
   "metadata": {},
   "outputs": [
    {
     "name": "stdout",
     "output_type": "stream",
     "text": [
      "74229\n"
     ]
    }
   ],
   "source": [
    "\n",
    "import re\n",
    "file_path = 'input.txt'\n",
    "# Read the file and process each line\n",
    "with open(file_path, 'r') as file:\n",
    "    file_lines = file.readlines()\n",
    "\n",
    "# Parsing the file content and calculating the minimum number of each color required for each game\n",
    "\n",
    "def parse_game_data(game_data):\n",
    "    \"\"\"\n",
    "    Parses a line of game data and returns the minimum number of each color required.\n",
    "\n",
    "    Args:\n",
    "    game_data (str): A string containing color and number pairs separated by commas and semicolons.\n",
    "\n",
    "    Returns:\n",
    "    dict: A dictionary with colors as keys and their minimum required numbers as values.\n",
    "    \"\"\"\n",
    "    color_counts = {}\n",
    "    combinations = game_data.split(';')\n",
    "    \n",
    "    for combo in combinations:\n",
    "        colors = combo.split(',')\n",
    "        for color in colors:\n",
    "            number, color_name = color.strip().split()\n",
    "            number = int(number)\n",
    "\n",
    "            if color_name not in color_counts:\n",
    "                color_counts[color_name] = number\n",
    "            else:\n",
    "                color_counts[color_name] = max(color_counts[color_name], number)\n",
    "\n",
    "    return color_counts\n",
    "\n",
    "def calculate_power(color_counts):\n",
    "    \"\"\"\n",
    "    Calculates the power of a set of cubes, which is the product of the numbers of red, green, and blue cubes.\n",
    "\n",
    "    Args:\n",
    "    color_counts (dict): A dictionary with colors as keys and their numbers as values.\n",
    "\n",
    "    Returns:\n",
    "    int: The product of the numbers of red, green, and blue cubes.\n",
    "    \"\"\"\n",
    "    power = 1\n",
    "    for color in ['red', 'green', 'blue']:\n",
    "        power *= color_counts.get(color, 1)\n",
    "    return power\n",
    "\n",
    "# Process each game and calculate the total sum\n",
    "total_power = 0\n",
    "\n",
    "for line in file_lines:\n",
    "    game_data = line.split(':')[1].strip()  # Extracting the part of the line after 'Game x:'\n",
    "    color_counts = parse_game_data(game_data)\n",
    "    game_power = calculate_power(color_counts)\n",
    "    total_power += game_power\n",
    "\n",
    "total_power\n",
    "\n",
    "print(total_power)"
   ]
  }
 ],
 "metadata": {
  "kernelspec": {
   "display_name": "Python 3",
   "language": "python",
   "name": "python3"
  },
  "language_info": {
   "codemirror_mode": {
    "name": "ipython",
    "version": 3
   },
   "file_extension": ".py",
   "mimetype": "text/x-python",
   "name": "python",
   "nbconvert_exporter": "python",
   "pygments_lexer": "ipython3",
   "version": "3.9.16"
  }
 },
 "nbformat": 4,
 "nbformat_minor": 2
}
