{
 "cells": [
  {
   "cell_type": "code",
   "execution_count": 4,
   "metadata": {},
   "outputs": [
    {
     "name": "stdout",
     "output_type": "stream",
     "text": [
      "72514855\n"
     ]
    }
   ],
   "source": [
    "\n",
    "import re\n",
    "file_path = 'input.txt'\n",
    "# Read the file and process each line\n",
    "with open(file_path, 'r') as file:\n",
    "    file_content = file.readlines()\n",
    "\n",
    "grid = [line.strip() for line in file_content]\n",
    "\n",
    "# grid_from_file = [line.strip() for line in grid_from_file]\n",
    "\n",
    "# Function to sum numbers next to symbols\n",
    "def calculate_gear_ratios_refined(grid):\n",
    "    # Function to find horizontally adjacent numbers around a cell\n",
    "    def find_adjacent_numbers(x, y):\n",
    "        numbers = []\n",
    "        for dx in [-1, 0, 1]:\n",
    "            nx = x + dx\n",
    "            if 0 <= nx < len(grid):\n",
    "                row = grid[nx]\n",
    "                for dy in [-1, 0, 1]:\n",
    "                    if dx == 0 and dy == 0:\n",
    "                        continue\n",
    "                    ny = y + dy\n",
    "                    if 0 <= ny < len(row) and row[ny].isdigit():\n",
    "                        # Extract the complete number\n",
    "                        start = ny\n",
    "                        while start > 0 and row[start - 1].isdigit():\n",
    "                            start -= 1\n",
    "                        end = ny\n",
    "                        while end + 1 < len(row) and row[end + 1].isdigit():\n",
    "                            end += 1\n",
    "                        # Add the number if it is not already in the list\n",
    "                        number = int(row[start:end+1])\n",
    "                        if number not in numbers:\n",
    "                            numbers.append(number)\n",
    "        return numbers\n",
    "\n",
    "    total = 0\n",
    "    for i in range(len(grid)):\n",
    "        for j in range(len(grid[i])):\n",
    "            if grid[i][j] == '*':\n",
    "                # Find horizontally adjacent numbers\n",
    "                adjacent_numbers = find_adjacent_numbers(i, j)\n",
    "                # If exactly two numbers, multiply them and add to total\n",
    "                if len(adjacent_numbers) == 2:\n",
    "                    total += adjacent_numbers[0] * adjacent_numbers[1]\n",
    "\n",
    "    return total\n",
    "\n",
    "\n",
    "print(calculate_gear_ratios_refined(grid))"
   ]
  }
 ],
 "metadata": {
  "kernelspec": {
   "display_name": "Python 3",
   "language": "python",
   "name": "python3"
  },
  "language_info": {
   "codemirror_mode": {
    "name": "ipython",
    "version": 3
   },
   "file_extension": ".py",
   "mimetype": "text/x-python",
   "name": "python",
   "nbconvert_exporter": "python",
   "pygments_lexer": "ipython3",
   "version": "3.9.16"
  }
 },
 "nbformat": 4,
 "nbformat_minor": 2
}
