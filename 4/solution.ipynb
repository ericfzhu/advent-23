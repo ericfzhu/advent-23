{
 "cells": [
  {
   "cell_type": "code",
   "execution_count": 2,
   "metadata": {},
   "outputs": [
    {
     "name": "stdout",
     "output_type": "stream",
     "text": [
      "19499881\n"
     ]
    }
   ],
   "source": [
    "\n",
    "import re\n",
    "file_path = 'input.txt'\n",
    "with open(file_path, 'r') as file:\n",
    "    input_cards = file.readlines()\n",
    "\n",
    "# Removing any trailing whitespace or newlines\n",
    "input_cards = [card.strip() for card in input_cards]\n",
    "\n",
    "# Process the input cards\n",
    "total_input_cards = 0\n",
    "input_copies = [1] * len(input_cards)\n",
    "\n",
    "def count_matching_numbers(card):\n",
    "    left, right = card.split('|')\n",
    "    left_numbers = set(left.split())\n",
    "    right_numbers = set(right.split())\n",
    "    return len(left_numbers.intersection(right_numbers))\n",
    "\n",
    "for i in range(len(input_cards)):\n",
    "    matches = count_matching_numbers(input_cards[i])\n",
    "    total_input_cards += input_copies[i]  # Add the number of copies of the current card\n",
    "    # Update the number of copies for the next y cards\n",
    "    for j in range(i+1, min(i+1+matches, len(input_cards))):\n",
    "        input_copies[j] += input_copies[i]\n",
    "\n",
    "print(total_input_cards)\n"
   ]
  }
 ],
 "metadata": {
  "kernelspec": {
   "display_name": "Python 3",
   "language": "python",
   "name": "python3"
  },
  "language_info": {
   "codemirror_mode": {
    "name": "ipython",
    "version": 3
   },
   "file_extension": ".py",
   "mimetype": "text/x-python",
   "name": "python",
   "nbconvert_exporter": "python",
   "pygments_lexer": "ipython3",
   "version": "3.9.16"
  }
 },
 "nbformat": 4,
 "nbformat_minor": 2
}
