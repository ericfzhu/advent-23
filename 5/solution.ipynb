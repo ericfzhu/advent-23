{
 "cells": [
  {
   "cell_type": "code",
   "execution_count": 3,
   "metadata": {},
   "outputs": [
    {
     "data": {
      "text/plain": [
       "858905075"
      ]
     },
     "execution_count": 3,
     "metadata": {},
     "output_type": "execute_result"
    }
   ],
   "source": [
    "def parse_input(file_path):\n",
    "    with open(file_path, 'r') as file:\n",
    "        lines = file.readlines()\n",
    "\n",
    "    # Extract seeds, considering a possible label before the numbers\n",
    "    seeds_line = lines[0].strip().split()\n",
    "    seeds = list(map(int, seeds_line[1:] if seeds_line[0].endswith(':') else seeds_line))\n",
    "\n",
    "    maps = []\n",
    "    current_map = []\n",
    "    skip_next = False\n",
    "\n",
    "    for line in lines[1:]:\n",
    "        line = line.strip()\n",
    "        if line.endswith(':'):\n",
    "            # Skip the label line and the following empty line\n",
    "            skip_next = True\n",
    "            continue\n",
    "        elif line == '':\n",
    "            if current_map:\n",
    "                maps.append(current_map)\n",
    "                current_map = []\n",
    "            skip_next = False\n",
    "        elif not skip_next:\n",
    "            current_map.append(tuple(map(int, line.split())))\n",
    "\n",
    "    # Add the last map if it exists\n",
    "    if current_map:\n",
    "        maps.append(current_map)\n",
    "\n",
    "    return seeds, maps\n",
    "\n",
    "def map_resources(seeds, maps):\n",
    "    # Initialize the range of numbers from the seeds\n",
    "    range1 = list(range(seeds[0], seeds[0] + seeds[1]))\n",
    "    range2 = list(range(seeds[2], seeds[2] + seeds[3]))\n",
    "    numbers = range1 + range2\n",
    "\n",
    "    # Apply each map to the numbers\n",
    "    for map in maps:\n",
    "        new_numbers = []\n",
    "        for num in numbers:\n",
    "            mapped = False\n",
    "            for x, y, z in map:\n",
    "                if y <= num < y + z:\n",
    "                    # Map the number\n",
    "                    new_num = x + (num - y)\n",
    "                    new_numbers.append(new_num)\n",
    "                    mapped = True\n",
    "                    break\n",
    "            if not mapped:\n",
    "                # If the number is not mapped, it remains the same\n",
    "                new_numbers.append(num)\n",
    "        numbers = new_numbers\n",
    "\n",
    "    # Return the lowest number in the final array\n",
    "    return min(numbers)\n",
    "\n",
    "\n",
    "with open('input.txt', 'r') as file:\n",
    "    lines = file.readlines()\n",
    "\n",
    "seeds, maps = parse_input('input.txt')\n",
    "result = map_resources(seeds, maps)\n",
    "result"
   ]
  }
 ],
 "metadata": {
  "kernelspec": {
   "display_name": "Python 3",
   "language": "python",
   "name": "python3"
  },
  "language_info": {
   "codemirror_mode": {
    "name": "ipython",
    "version": 3
   },
   "file_extension": ".py",
   "mimetype": "text/x-python",
   "name": "python",
   "nbconvert_exporter": "python",
   "pygments_lexer": "ipython3",
   "version": "3.9.16"
  }
 },
 "nbformat": 4,
 "nbformat_minor": 2
}
