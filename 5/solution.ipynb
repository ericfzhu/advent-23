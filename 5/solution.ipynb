{
 "cells": [
  {
   "cell_type": "code",
   "execution_count": 1,
   "metadata": {},
   "outputs": [
    {
     "ename": "",
     "evalue": "",
     "output_type": "error",
     "traceback": [
      "\u001b[1;31mThe Kernel crashed while executing code in the the current cell or a previous cell. Please review the code in the cell(s) to identify a possible cause of the failure. Click <a href='https://aka.ms/vscodeJupyterKernelCrash'>here</a> for more info. View Jupyter <a href='command:jupyter.viewOutput'>log</a> for further details."
     ]
    }
   ],
   "source": [
    "# It appears that there is an issue with parsing the seeds section. I will adjust the code to correctly handle the format.\n",
    "\n",
    "def parse(example):\n",
    "    # Splitting the example into sections\n",
    "    sections = example.strip().split(\"\\n\\n\")\n",
    "    seeds_section = sections[0].split(\"\\n\")[0].split(\":\")[1].strip()\n",
    "    seeds = [int(n) for n in seeds_section.split()]\n",
    "\n",
    "    # Parsing the map sections\n",
    "    maps = []\n",
    "    for section in sections[1:]:\n",
    "        lines = section.strip().split(\"\\n\")[1:]\n",
    "        map_data = []\n",
    "        for line in lines:\n",
    "            if line.strip():\n",
    "                map_data.append(tuple(map(int, line.strip().split())))\n",
    "        maps.append(map_data)\n",
    "\n",
    "    return seeds, maps\n",
    "\n",
    "def convert_numbers(seeds, maps):\n",
    "    ranges = []\n",
    "    for i in range(0, len(seeds), 2):\n",
    "        start, length = seeds[i], seeds[i+1]\n",
    "        ranges.extend(range(start, start + length))\n",
    "\n",
    "    for map_data in maps:\n",
    "        new_ranges = []\n",
    "        for number in ranges:\n",
    "            converted = False\n",
    "            for dest_start, src_start, length in map_data:\n",
    "                if src_start <= number < src_start + length:\n",
    "                    new_number = dest_start + (number - src_start)\n",
    "                    new_ranges.append(new_number)\n",
    "                    converted = True\n",
    "                    break\n",
    "            if not converted:\n",
    "                new_ranges.append(number)\n",
    "        ranges = new_ranges\n",
    "\n",
    "    return min(ranges)\n",
    "\n",
    "file_path = 'input.txt'\n",
    "\n",
    "with open(file_path, 'r') as file:\n",
    "    input_txt = file.read()\n",
    "\n",
    "# Parse the example and process it\n",
    "seeds, maps = parse(input_txt)\n",
    "result = convert_numbers(seeds, maps)\n",
    "result\n",
    "\n"
   ]
  },
  {
   "cell_type": "code",
   "execution_count": 1,
   "metadata": {},
   "outputs": [
    {
     "ename": "IndexError",
     "evalue": "list index out of range",
     "output_type": "error",
     "traceback": [
      "\u001b[0;31m---------------------------------------------------------------------------\u001b[0m",
      "\u001b[0;31mIndexError\u001b[0m                                Traceback (most recent call last)",
      "\u001b[1;32m/Users/eric/Documents/Github/advent-2023/5/solution.ipynb Cell 2\u001b[0m line \u001b[0;36m4\n\u001b[1;32m     <a href='vscode-notebook-cell:/Users/eric/Documents/Github/advent-2023/5/solution.ipynb#W1sZmlsZQ%3D%3D?line=43'>44</a>\u001b[0m         maps\u001b[39m.\u001b[39mappend(current_map)\n\u001b[1;32m     <a href='vscode-notebook-cell:/Users/eric/Documents/Github/advent-2023/5/solution.ipynb#W1sZmlsZQ%3D%3D?line=45'>46</a>\u001b[0m     \u001b[39mreturn\u001b[39;00m seeds, maps\n\u001b[0;32m---> <a href='vscode-notebook-cell:/Users/eric/Documents/Github/advent-2023/5/solution.ipynb#W1sZmlsZQ%3D%3D?line=47'>48</a>\u001b[0m seeds_input, maps_input \u001b[39m=\u001b[39m parse_input(\u001b[39m'\u001b[39;49m\u001b[39minput.txt\u001b[39;49m\u001b[39m'\u001b[39;49m)\n\u001b[1;32m     <a href='vscode-notebook-cell:/Users/eric/Documents/Github/advent-2023/5/solution.ipynb#W1sZmlsZQ%3D%3D?line=49'>50</a>\u001b[0m \u001b[39m# Use the function to get the lowest location for the input data\u001b[39;00m\n\u001b[1;32m     <a href='vscode-notebook-cell:/Users/eric/Documents/Github/advent-2023/5/solution.ipynb#W1sZmlsZQ%3D%3D?line=50'>51</a>\u001b[0m lowest_location_input \u001b[39m=\u001b[39m convert_resources(seeds_input, maps_input)\n",
      "\u001b[1;32m/Users/eric/Documents/Github/advent-2023/5/solution.ipynb Cell 2\u001b[0m line \u001b[0;36m3\n\u001b[1;32m     <a href='vscode-notebook-cell:/Users/eric/Documents/Github/advent-2023/5/solution.ipynb#W1sZmlsZQ%3D%3D?line=28'>29</a>\u001b[0m \u001b[39mdef\u001b[39;00m \u001b[39mparse_input\u001b[39m(text):\n\u001b[1;32m     <a href='vscode-notebook-cell:/Users/eric/Documents/Github/advent-2023/5/solution.ipynb#W1sZmlsZQ%3D%3D?line=29'>30</a>\u001b[0m     lines \u001b[39m=\u001b[39m text\u001b[39m.\u001b[39mstrip()\u001b[39m.\u001b[39msplit(\u001b[39m'\u001b[39m\u001b[39m\\n\u001b[39;00m\u001b[39m'\u001b[39m)\n\u001b[0;32m---> <a href='vscode-notebook-cell:/Users/eric/Documents/Github/advent-2023/5/solution.ipynb#W1sZmlsZQ%3D%3D?line=30'>31</a>\u001b[0m     seeds \u001b[39m=\u001b[39m \u001b[39mlist\u001b[39m(\u001b[39mmap\u001b[39m(\u001b[39mint\u001b[39m, lines[\u001b[39m0\u001b[39;49m]\u001b[39m.\u001b[39;49msplit(\u001b[39m'\u001b[39;49m\u001b[39m:\u001b[39;49m\u001b[39m'\u001b[39;49m)[\u001b[39m1\u001b[39;49m]\u001b[39m.\u001b[39msplit()))\n\u001b[1;32m     <a href='vscode-notebook-cell:/Users/eric/Documents/Github/advent-2023/5/solution.ipynb#W1sZmlsZQ%3D%3D?line=31'>32</a>\u001b[0m     maps \u001b[39m=\u001b[39m []\n\u001b[1;32m     <a href='vscode-notebook-cell:/Users/eric/Documents/Github/advent-2023/5/solution.ipynb#W1sZmlsZQ%3D%3D?line=32'>33</a>\u001b[0m     current_map \u001b[39m=\u001b[39m []\n",
      "\u001b[0;31mIndexError\u001b[0m: list index out of range"
     ]
    }
   ],
   "source": [
    "def convert_resources(seeds, maps):\n",
    "    # Convert the seeds into ranges\n",
    "    ranges = [range(seeds[i], seeds[i] + seeds[i + 1]) for i in range(0, len(seeds), 2)]\n",
    "\n",
    "    # Flatten the ranges into a single list of numbers\n",
    "    numbers = [num for r in ranges for num in r]\n",
    "\n",
    "    # Apply each map to the numbers\n",
    "    for map in maps:\n",
    "        new_numbers = []\n",
    "        for num in numbers:\n",
    "            # Check if the number is within any of the ranges in the map\n",
    "            mapped = False\n",
    "            for x, y, z in map:\n",
    "                if y <= num < y + z:\n",
    "                    # Map the number\n",
    "                    new_num = x + (num - y)\n",
    "                    new_numbers.append(new_num)\n",
    "                    mapped = True\n",
    "                    break\n",
    "            if not mapped:\n",
    "                # If the number wasn't in the map, it stays the same\n",
    "                new_numbers.append(num)\n",
    "        numbers = new_numbers\n",
    "\n",
    "    # Return the lowest number in the final list\n",
    "    return min(numbers)\n",
    "\n",
    "def parse_input(text):\n",
    "    lines = text.strip().split('\\n')\n",
    "    seeds = list(map(int, lines[0].split(':')[1].split()))\n",
    "    maps = []\n",
    "    current_map = []\n",
    "\n",
    "    for line in lines[3:]:\n",
    "        if 'map:' in line:\n",
    "            if current_map:\n",
    "                maps.append(current_map)\n",
    "                current_map = []\n",
    "        elif line.strip():\n",
    "            current_map.append(tuple(map(int, line.split())))\n",
    "\n",
    "    if current_map:\n",
    "        maps.append(current_map)\n",
    "\n",
    "    return seeds, maps\n",
    "\n",
    "seeds_input, maps_input = parse_input('input.txt')\n",
    "\n",
    "# Use the function to get the lowest location for the input data\n",
    "lowest_location_input = convert_resources(seeds_input, maps_input)"
   ]
  }
 ],
 "metadata": {
  "kernelspec": {
   "display_name": "Python 3",
   "language": "python",
   "name": "python3"
  },
  "language_info": {
   "codemirror_mode": {
    "name": "ipython",
    "version": 3
   },
   "file_extension": ".py",
   "mimetype": "text/x-python",
   "name": "python",
   "nbconvert_exporter": "python",
   "pygments_lexer": "ipython3",
   "version": "3.9.16"
  }
 },
 "nbformat": 4,
 "nbformat_minor": 2
}
